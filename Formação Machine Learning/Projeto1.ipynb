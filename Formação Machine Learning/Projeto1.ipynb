{
  "cells": [
    {
      "cell_type": "markdown",
      "metadata": {
        "colab_type": "text",
        "id": "view-in-github"
      },
      "source": [
        "<a href=\"https://colab.research.google.com/github/Samuca47prog/alura-courses/blob/main/Forma%C3%A7%C3%A3o%20Machine%20Learning/Projeto1.ipynb\" target=\"_parent\"><img src=\"https://colab.research.google.com/assets/colab-badge.svg\" alt=\"Open In Colab\"/></a>"
      ]
    },
    {
      "cell_type": "code",
      "execution_count": 1,
      "metadata": {
        "colab": {
          "base_uri": "https://localhost:8080/"
        },
        "id": "0NZBkTLG0xN8",
        "outputId": "0aa3f8e6-f0e5-4e2a-99d8-bf1ce5c2c0ed"
      },
      "outputs": [
        {
          "name": "stdout",
          "output_type": "stream",
          "text": [
            "eae\n"
          ]
        }
      ],
      "source": [
        "print(\"eae\")\n",
        "print(\"poura\")"
      ]
    }
  ],
  "metadata": {
    "colab": {
      "authorship_tag": "ABX9TyNv2qTPJ0QY/hfrz7PRP370",
      "collapsed_sections": [],
      "include_colab_link": true,
      "name": "Projeto1.ipynb",
      "provenance": []
    },
    "kernelspec": {
      "display_name": "Python 3",
      "name": "python3"
    },
    "language_info": {
      "name": "python"
    }
  },
  "nbformat": 4,
  "nbformat_minor": 0
}
